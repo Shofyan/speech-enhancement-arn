{
  "nbformat": 4,
  "nbformat_minor": 0,
  "metadata": {
    "colab": {
      "name": "DSP_Project.ipynb",
      "provenance": [],
      "toc_visible": true,
      "authorship_tag": "ABX9TyMG/L4pGDK4uNx3OtgTlBZl",
      "include_colab_link": true
    },
    "kernelspec": {
      "name": "python3",
      "display_name": "Python 3"
    },
    "language_info": {
      "name": "python"
    }
  },
  "cells": [
    {
      "cell_type": "markdown",
      "metadata": {
        "id": "view-in-github",
        "colab_type": "text"
      },
      "source": [
        "<a href=\"https://colab.research.google.com/github/Shofyan/speech-enhancement-arn/blob/main/DSP_Project.ipynb\" target=\"_parent\"><img src=\"https://colab.research.google.com/assets/colab-badge.svg\" alt=\"Open In Colab\"/></a>"
      ]
    },
    {
      "cell_type": "markdown",
      "source": [
        "# Tahap Pertama\n",
        "\n"
      ],
      "metadata": {
        "id": "1S1CIXhq9z4o"
      }
    },
    {
      "cell_type": "markdown",
      "source": [
        "Tahap pertama yang dilakukan adalah melakukan import terhadap pustaka yang digunakan. Pada penelitian kali ini, pustaka yang digunakan antara lain adalah:\n",
        "\n",
        "\n",
        "\n",
        "*   Tensorflow\n",
        "*   Librosa\n",
        "\n"
      ],
      "metadata": {
        "id": "TnjrzphV0b_I"
      }
    },
    {
      "cell_type": "code",
      "source": [
        "import librosa"
      ],
      "metadata": {
        "colab": {
          "base_uri": "https://localhost:8080/"
        },
        "id": "MqEU_6WA0oXW",
        "outputId": "ad483992-7652-4733-cf83-63797bd129a3"
      },
      "execution_count": null,
      "outputs": [
        {
          "output_type": "stream",
          "name": "stderr",
          "text": [
            "/usr/local/lib/python3.7/dist-packages/resampy/interpn.py:114: NumbaWarning: The TBB threading layer requires TBB version 2019.5 or later i.e., TBB_INTERFACE_VERSION >= 11005. Found TBB_INTERFACE_VERSION = 9107. The TBB threading layer is disabled.\n",
            "  _resample_loop_p(x, t_out, interp_win, interp_delta, num_table, scale, y)\n"
          ]
        }
      ]
    },
    {
      "cell_type": "markdown",
      "source": [
        "# Tahap Kedua"
      ],
      "metadata": {
        "id": "Nan65aOt0ZAq"
      }
    }
  ]
}